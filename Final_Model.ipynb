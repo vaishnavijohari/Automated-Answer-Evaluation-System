{
  "cells": [
    {
      "cell_type": "markdown",
      "metadata": {
        "id": "view-in-github",
        "colab_type": "text"
      },
      "source": [
        "<a href=\"https://colab.research.google.com/github/vaishnavijohari/Automated-Answer-Evaluation-System/blob/main/Final_Model.ipynb\" target=\"_parent\"><img src=\"https://colab.research.google.com/assets/colab-badge.svg\" alt=\"Open In Colab\"/></a>"
      ]
    },
    {
      "cell_type": "code",
      "source": [
        "# %tensorflow_version 2.x\n",
        "# import tensorflow as tf\n",
        "# print(\"Tensorflow version \" + tf.__version__)\n",
        "\n",
        "# try:\n",
        "#   tpu = tf.distribute.cluster_resolver.TPUClusterResolver()  # TPU detection\n",
        "#   print('Running on TPU ', tpu.cluster_spec().as_dict()['worker'])\n",
        "# except ValueError:\n",
        "#   raise BaseException('ERROR: Not connected to a TPU runtime; please see the previous cell in this notebook for instructions!')\n",
        "\n",
        "# tf.config.experimental_connect_to_cluster(tpu)\n",
        "# tf.tpu.experimental.initialize_tpu_system(tpu)\n",
        "# tpu_strategy = tf.distribute.experimental.TPUStrategy(tpu)\n",
        "\n",
        "import tensorflow as tf\n",
        "resolver = tf.distribute.cluster_resolver.TPUClusterResolver(tpu='')\n",
        "tf.config.experimental_connect_to_cluster(resolver)\n",
        "# This is the TPU initialization code that has to be at the beginning.\n",
        "tf.tpu.experimental.initialize_tpu_system(resolver)\n",
        "print(\"All devices: \", tf.config.list_logical_devices('TPU'))\n"
      ],
      "metadata": {
        "colab": {
          "base_uri": "https://localhost:8080/"
        },
        "id": "FhJY5BJstdON",
        "outputId": "1c8853cf-5d5b-4bac-c519-fb50f41f721c"
      },
      "execution_count": null,
      "outputs": [
        {
          "output_type": "stream",
          "name": "stdout",
          "text": [
            "INFO:tensorflow:Deallocate tpu buffers before initializing tpu system.\n"
          ]
        },
        {
          "output_type": "stream",
          "name": "stderr",
          "text": [
            "INFO:tensorflow:Deallocate tpu buffers before initializing tpu system.\n"
          ]
        },
        {
          "output_type": "stream",
          "name": "stdout",
          "text": [
            "INFO:tensorflow:Initializing the TPU system: grpc://10.89.50.130:8470\n"
          ]
        },
        {
          "output_type": "stream",
          "name": "stderr",
          "text": [
            "INFO:tensorflow:Initializing the TPU system: grpc://10.89.50.130:8470\n"
          ]
        },
        {
          "output_type": "stream",
          "name": "stdout",
          "text": [
            "INFO:tensorflow:Finished initializing TPU system.\n"
          ]
        },
        {
          "output_type": "stream",
          "name": "stderr",
          "text": [
            "INFO:tensorflow:Finished initializing TPU system.\n"
          ]
        },
        {
          "output_type": "stream",
          "name": "stdout",
          "text": [
            "All devices:  [LogicalDevice(name='/job:worker/replica:0/task:0/device:TPU:0', device_type='TPU'), LogicalDevice(name='/job:worker/replica:0/task:0/device:TPU:1', device_type='TPU'), LogicalDevice(name='/job:worker/replica:0/task:0/device:TPU:2', device_type='TPU'), LogicalDevice(name='/job:worker/replica:0/task:0/device:TPU:3', device_type='TPU'), LogicalDevice(name='/job:worker/replica:0/task:0/device:TPU:4', device_type='TPU'), LogicalDevice(name='/job:worker/replica:0/task:0/device:TPU:5', device_type='TPU'), LogicalDevice(name='/job:worker/replica:0/task:0/device:TPU:6', device_type='TPU'), LogicalDevice(name='/job:worker/replica:0/task:0/device:TPU:7', device_type='TPU')]\n"
          ]
        }
      ]
    },
    {
      "cell_type": "code",
      "execution_count": null,
      "metadata": {
        "colab": {
          "base_uri": "https://localhost:8080/"
        },
        "id": "-ETd00HBhP6t",
        "outputId": "c2f57a18-98c3-4add-e643-0536f4d55b0a"
      },
      "outputs": [
        {
          "output_type": "stream",
          "name": "stdout",
          "text": [
            "--2022-06-26 10:29:11--  https://s3.amazonaws.com/ps.public.resources/ml-showcase/news_summary.csv\n",
            "Resolving s3.amazonaws.com (s3.amazonaws.com)... 52.216.45.0\n",
            "Connecting to s3.amazonaws.com (s3.amazonaws.com)|52.216.45.0|:443... connected.\n",
            "HTTP request sent, awaiting response... 200 OK\n",
            "Length: 11896415 (11M) [text/csv]\n",
            "Saving to: ‘news_summary.csv’\n",
            "\n",
            "news_summary.csv    100%[===================>]  11.34M  38.2MB/s    in 0.3s    \n",
            "\n",
            "2022-06-26 10:29:12 (38.2 MB/s) - ‘news_summary.csv’ saved [11896415/11896415]\n",
            "\n",
            "--2022-06-26 10:29:12--  https://s3.amazonaws.com/ps.public.resources/ml-showcase/news_summary_more.csv\n",
            "Resolving s3.amazonaws.com (s3.amazonaws.com)... 52.216.45.0\n",
            "Connecting to s3.amazonaws.com (s3.amazonaws.com)|52.216.45.0|:443... connected.\n",
            "HTTP request sent, awaiting response... 200 OK\n",
            "Length: 41399270 (39M) [text/csv]\n",
            "Saving to: ‘news_summary_more.csv’\n",
            "\n",
            "news_summary_more.c 100%[===================>]  39.48M  55.8MB/s    in 0.7s    \n",
            "\n",
            "2022-06-26 10:29:13 (55.8 MB/s) - ‘news_summary_more.csv’ saved [41399270/41399270]\n",
            "\n"
          ]
        }
      ],
      "source": [
        "# Download the data\n",
        "!wget https://s3.amazonaws.com/ps.public.resources/ml-showcase/news_summary.csv\n",
        "!wget https://s3.amazonaws.com/ps.public.resources/ml-showcase/news_summary_more.csv"
      ]
    },
    {
      "cell_type": "code",
      "execution_count": null,
      "metadata": {
        "colab": {
          "base_uri": "https://localhost:8080/",
          "height": 1000
        },
        "id": "XVVwhRGTheKm",
        "outputId": "9afc07a8-4bee-4d91-bcc8-1b7251d81b27"
      },
      "outputs": [
        {
          "output_type": "stream",
          "name": "stdout",
          "text": [
            "Looking in indexes: https://pypi.org/simple, https://us-python.pkg.dev/colab-wheels/public/simple/\n",
            "Requirement already satisfied: pip in /usr/local/lib/python3.7/dist-packages (21.1.3)\n",
            "Collecting pip\n",
            "  Downloading pip-22.1.2-py3-none-any.whl (2.1 MB)\n",
            "\u001b[K     |████████████████████████████████| 2.1 MB 5.5 MB/s \n",
            "\u001b[?25hRequirement already satisfied: setuptools in /usr/local/lib/python3.7/dist-packages (57.4.0)\n",
            "Collecting setuptools\n",
            "  Downloading setuptools-62.6.0-py3-none-any.whl (1.2 MB)\n",
            "\u001b[K     |████████████████████████████████| 1.2 MB 45.7 MB/s \n",
            "\u001b[?25hRequirement already satisfied: wheel in /usr/local/lib/python3.7/dist-packages (0.37.1)\n",
            "Installing collected packages: setuptools, pip\n",
            "  Attempting uninstall: setuptools\n",
            "    Found existing installation: setuptools 57.4.0\n",
            "    Uninstalling setuptools-57.4.0:\n",
            "      Successfully uninstalled setuptools-57.4.0\n",
            "  Attempting uninstall: pip\n",
            "    Found existing installation: pip 21.1.3\n",
            "    Uninstalling pip-21.1.3:\n",
            "      Successfully uninstalled pip-21.1.3\n",
            "\u001b[31mERROR: pip's dependency resolver does not currently take into account all the packages that are installed. This behaviour is the source of the following dependency conflicts.\n",
            "datascience 0.10.6 requires folium==0.2.1, but you have folium 0.8.3 which is incompatible.\u001b[0m\n",
            "Successfully installed pip-22.1.2 setuptools-62.6.0\n"
          ]
        },
        {
          "output_type": "display_data",
          "data": {
            "application/vnd.colab-display-data+json": {
              "pip_warning": {
                "packages": [
                  "pkg_resources"
                ]
              }
            }
          },
          "metadata": {}
        },
        {
          "output_type": "stream",
          "name": "stdout",
          "text": [
            "Looking in indexes: https://pypi.org/simple, https://us-python.pkg.dev/colab-wheels/public/simple/\n",
            "Requirement already satisfied: spacy in /usr/local/lib/python3.7/dist-packages (3.3.1)\n",
            "Requirement already satisfied: spacy-loggers<2.0.0,>=1.0.0 in /usr/local/lib/python3.7/dist-packages (from spacy) (1.0.2)\n",
            "Requirement already satisfied: packaging>=20.0 in /usr/local/lib/python3.7/dist-packages (from spacy) (21.3)\n",
            "Requirement already satisfied: cymem<2.1.0,>=2.0.2 in /usr/local/lib/python3.7/dist-packages (from spacy) (2.0.6)\n",
            "Requirement already satisfied: thinc<8.1.0,>=8.0.14 in /usr/local/lib/python3.7/dist-packages (from spacy) (8.0.17)\n",
            "Requirement already satisfied: typing-extensions<4.2.0,>=3.7.4 in /usr/local/lib/python3.7/dist-packages (from spacy) (4.1.1)\n",
            "Requirement already satisfied: pydantic!=1.8,!=1.8.1,<1.9.0,>=1.7.4 in /usr/local/lib/python3.7/dist-packages (from spacy) (1.8.2)\n",
            "Requirement already satisfied: spacy-legacy<3.1.0,>=3.0.9 in /usr/local/lib/python3.7/dist-packages (from spacy) (3.0.9)\n",
            "Requirement already satisfied: srsly<3.0.0,>=2.4.3 in /usr/local/lib/python3.7/dist-packages (from spacy) (2.4.3)\n",
            "Requirement already satisfied: numpy>=1.15.0 in /usr/local/lib/python3.7/dist-packages (from spacy) (1.21.6)\n",
            "Requirement already satisfied: jinja2 in /usr/local/lib/python3.7/dist-packages (from spacy) (2.11.3)\n",
            "Requirement already satisfied: catalogue<2.1.0,>=2.0.6 in /usr/local/lib/python3.7/dist-packages (from spacy) (2.0.7)\n",
            "Requirement already satisfied: preshed<3.1.0,>=3.0.2 in /usr/local/lib/python3.7/dist-packages (from spacy) (3.0.6)\n",
            "Requirement already satisfied: requests<3.0.0,>=2.13.0 in /usr/local/lib/python3.7/dist-packages (from spacy) (2.23.0)\n",
            "Requirement already satisfied: blis<0.8.0,>=0.4.0 in /usr/local/lib/python3.7/dist-packages (from spacy) (0.7.7)\n",
            "Requirement already satisfied: langcodes<4.0.0,>=3.2.0 in /usr/local/lib/python3.7/dist-packages (from spacy) (3.3.0)\n",
            "Requirement already satisfied: wasabi<1.1.0,>=0.9.1 in /usr/local/lib/python3.7/dist-packages (from spacy) (0.9.1)\n",
            "Requirement already satisfied: typer<0.5.0,>=0.3.0 in /usr/local/lib/python3.7/dist-packages (from spacy) (0.4.1)\n",
            "Requirement already satisfied: murmurhash<1.1.0,>=0.28.0 in /usr/local/lib/python3.7/dist-packages (from spacy) (1.0.7)\n",
            "Requirement already satisfied: pathy>=0.3.5 in /usr/local/lib/python3.7/dist-packages (from spacy) (0.6.1)\n",
            "Requirement already satisfied: setuptools in /usr/local/lib/python3.7/dist-packages (from spacy) (62.6.0)\n",
            "Requirement already satisfied: tqdm<5.0.0,>=4.38.0 in /usr/local/lib/python3.7/dist-packages (from spacy) (4.64.0)\n",
            "Requirement already satisfied: zipp>=0.5 in /usr/local/lib/python3.7/dist-packages (from catalogue<2.1.0,>=2.0.6->spacy) (3.8.0)\n",
            "Requirement already satisfied: pyparsing!=3.0.5,>=2.0.2 in /usr/local/lib/python3.7/dist-packages (from packaging>=20.0->spacy) (3.0.9)\n",
            "Requirement already satisfied: smart-open<6.0.0,>=5.0.0 in /usr/local/lib/python3.7/dist-packages (from pathy>=0.3.5->spacy) (5.2.1)\n",
            "Requirement already satisfied: urllib3!=1.25.0,!=1.25.1,<1.26,>=1.21.1 in /usr/local/lib/python3.7/dist-packages (from requests<3.0.0,>=2.13.0->spacy) (1.24.3)\n",
            "Requirement already satisfied: chardet<4,>=3.0.2 in /usr/local/lib/python3.7/dist-packages (from requests<3.0.0,>=2.13.0->spacy) (3.0.4)\n",
            "Requirement already satisfied: idna<3,>=2.5 in /usr/local/lib/python3.7/dist-packages (from requests<3.0.0,>=2.13.0->spacy) (2.10)\n",
            "Requirement already satisfied: certifi>=2017.4.17 in /usr/local/lib/python3.7/dist-packages (from requests<3.0.0,>=2.13.0->spacy) (2022.6.15)\n",
            "Requirement already satisfied: click<9.0.0,>=7.1.1 in /usr/local/lib/python3.7/dist-packages (from typer<0.5.0,>=0.3.0->spacy) (7.1.2)\n",
            "Requirement already satisfied: MarkupSafe>=0.23 in /usr/local/lib/python3.7/dist-packages (from jinja2->spacy) (2.0.1)\n",
            "\u001b[33mWARNING: Running pip as the 'root' user can result in broken permissions and conflicting behaviour with the system package manager. It is recommended to use a virtual environment instead: https://pip.pypa.io/warnings/venv\u001b[0m\u001b[33m\n",
            "\u001b[0mLooking in indexes: https://pypi.org/simple, https://us-python.pkg.dev/colab-wheels/public/simple/\n",
            "Collecting en-core-web-sm==3.3.0\n",
            "  Downloading https://github.com/explosion/spacy-models/releases/download/en_core_web_sm-3.3.0/en_core_web_sm-3.3.0-py3-none-any.whl (12.8 MB)\n",
            "\u001b[2K     \u001b[90m━━━━━━━━━━━━━━━━━━━━━━━━━━━━━━━━━━━━━━━━\u001b[0m \u001b[32m12.8/12.8 MB\u001b[0m \u001b[31m62.3 MB/s\u001b[0m eta \u001b[36m0:00:00\u001b[0m\n",
            "\u001b[?25hRequirement already satisfied: spacy<3.4.0,>=3.3.0.dev0 in /usr/local/lib/python3.7/dist-packages (from en-core-web-sm==3.3.0) (3.3.1)\n",
            "Requirement already satisfied: murmurhash<1.1.0,>=0.28.0 in /usr/local/lib/python3.7/dist-packages (from spacy<3.4.0,>=3.3.0.dev0->en-core-web-sm==3.3.0) (1.0.7)\n",
            "Requirement already satisfied: jinja2 in /usr/local/lib/python3.7/dist-packages (from spacy<3.4.0,>=3.3.0.dev0->en-core-web-sm==3.3.0) (2.11.3)\n",
            "Requirement already satisfied: spacy-legacy<3.1.0,>=3.0.9 in /usr/local/lib/python3.7/dist-packages (from spacy<3.4.0,>=3.3.0.dev0->en-core-web-sm==3.3.0) (3.0.9)\n",
            "Requirement already satisfied: setuptools in /usr/local/lib/python3.7/dist-packages (from spacy<3.4.0,>=3.3.0.dev0->en-core-web-sm==3.3.0) (62.6.0)\n",
            "Requirement already satisfied: catalogue<2.1.0,>=2.0.6 in /usr/local/lib/python3.7/dist-packages (from spacy<3.4.0,>=3.3.0.dev0->en-core-web-sm==3.3.0) (2.0.7)\n",
            "Requirement already satisfied: langcodes<4.0.0,>=3.2.0 in /usr/local/lib/python3.7/dist-packages (from spacy<3.4.0,>=3.3.0.dev0->en-core-web-sm==3.3.0) (3.3.0)\n",
            "Requirement already satisfied: spacy-loggers<2.0.0,>=1.0.0 in /usr/local/lib/python3.7/dist-packages (from spacy<3.4.0,>=3.3.0.dev0->en-core-web-sm==3.3.0) (1.0.2)\n",
            "Requirement already satisfied: blis<0.8.0,>=0.4.0 in /usr/local/lib/python3.7/dist-packages (from spacy<3.4.0,>=3.3.0.dev0->en-core-web-sm==3.3.0) (0.7.7)\n",
            "Requirement already satisfied: numpy>=1.15.0 in /usr/local/lib/python3.7/dist-packages (from spacy<3.4.0,>=3.3.0.dev0->en-core-web-sm==3.3.0) (1.21.6)\n",
            "Requirement already satisfied: pathy>=0.3.5 in /usr/local/lib/python3.7/dist-packages (from spacy<3.4.0,>=3.3.0.dev0->en-core-web-sm==3.3.0) (0.6.1)\n",
            "Requirement already satisfied: srsly<3.0.0,>=2.4.3 in /usr/local/lib/python3.7/dist-packages (from spacy<3.4.0,>=3.3.0.dev0->en-core-web-sm==3.3.0) (2.4.3)\n",
            "Requirement already satisfied: cymem<2.1.0,>=2.0.2 in /usr/local/lib/python3.7/dist-packages (from spacy<3.4.0,>=3.3.0.dev0->en-core-web-sm==3.3.0) (2.0.6)\n",
            "Requirement already satisfied: tqdm<5.0.0,>=4.38.0 in /usr/local/lib/python3.7/dist-packages (from spacy<3.4.0,>=3.3.0.dev0->en-core-web-sm==3.3.0) (4.64.0)\n",
            "Requirement already satisfied: typer<0.5.0,>=0.3.0 in /usr/local/lib/python3.7/dist-packages (from spacy<3.4.0,>=3.3.0.dev0->en-core-web-sm==3.3.0) (0.4.1)\n",
            "Requirement already satisfied: wasabi<1.1.0,>=0.9.1 in /usr/local/lib/python3.7/dist-packages (from spacy<3.4.0,>=3.3.0.dev0->en-core-web-sm==3.3.0) (0.9.1)\n",
            "Requirement already satisfied: packaging>=20.0 in /usr/local/lib/python3.7/dist-packages (from spacy<3.4.0,>=3.3.0.dev0->en-core-web-sm==3.3.0) (21.3)\n",
            "Requirement already satisfied: typing-extensions<4.2.0,>=3.7.4 in /usr/local/lib/python3.7/dist-packages (from spacy<3.4.0,>=3.3.0.dev0->en-core-web-sm==3.3.0) (4.1.1)\n",
            "Requirement already satisfied: pydantic!=1.8,!=1.8.1,<1.9.0,>=1.7.4 in /usr/local/lib/python3.7/dist-packages (from spacy<3.4.0,>=3.3.0.dev0->en-core-web-sm==3.3.0) (1.8.2)\n",
            "Requirement already satisfied: thinc<8.1.0,>=8.0.14 in /usr/local/lib/python3.7/dist-packages (from spacy<3.4.0,>=3.3.0.dev0->en-core-web-sm==3.3.0) (8.0.17)\n",
            "Requirement already satisfied: requests<3.0.0,>=2.13.0 in /usr/local/lib/python3.7/dist-packages (from spacy<3.4.0,>=3.3.0.dev0->en-core-web-sm==3.3.0) (2.23.0)\n",
            "Requirement already satisfied: preshed<3.1.0,>=3.0.2 in /usr/local/lib/python3.7/dist-packages (from spacy<3.4.0,>=3.3.0.dev0->en-core-web-sm==3.3.0) (3.0.6)\n",
            "Requirement already satisfied: zipp>=0.5 in /usr/local/lib/python3.7/dist-packages (from catalogue<2.1.0,>=2.0.6->spacy<3.4.0,>=3.3.0.dev0->en-core-web-sm==3.3.0) (3.8.0)\n",
            "Requirement already satisfied: pyparsing!=3.0.5,>=2.0.2 in /usr/local/lib/python3.7/dist-packages (from packaging>=20.0->spacy<3.4.0,>=3.3.0.dev0->en-core-web-sm==3.3.0) (3.0.9)\n",
            "Requirement already satisfied: smart-open<6.0.0,>=5.0.0 in /usr/local/lib/python3.7/dist-packages (from pathy>=0.3.5->spacy<3.4.0,>=3.3.0.dev0->en-core-web-sm==3.3.0) (5.2.1)\n",
            "Requirement already satisfied: idna<3,>=2.5 in /usr/local/lib/python3.7/dist-packages (from requests<3.0.0,>=2.13.0->spacy<3.4.0,>=3.3.0.dev0->en-core-web-sm==3.3.0) (2.10)\n",
            "Requirement already satisfied: certifi>=2017.4.17 in /usr/local/lib/python3.7/dist-packages (from requests<3.0.0,>=2.13.0->spacy<3.4.0,>=3.3.0.dev0->en-core-web-sm==3.3.0) (2022.6.15)\n",
            "Requirement already satisfied: urllib3!=1.25.0,!=1.25.1,<1.26,>=1.21.1 in /usr/local/lib/python3.7/dist-packages (from requests<3.0.0,>=2.13.0->spacy<3.4.0,>=3.3.0.dev0->en-core-web-sm==3.3.0) (1.24.3)\n",
            "Requirement already satisfied: chardet<4,>=3.0.2 in /usr/local/lib/python3.7/dist-packages (from requests<3.0.0,>=2.13.0->spacy<3.4.0,>=3.3.0.dev0->en-core-web-sm==3.3.0) (3.0.4)\n",
            "Requirement already satisfied: click<9.0.0,>=7.1.1 in /usr/local/lib/python3.7/dist-packages (from typer<0.5.0,>=0.3.0->spacy<3.4.0,>=3.3.0.dev0->en-core-web-sm==3.3.0) (7.1.2)\n",
            "Requirement already satisfied: MarkupSafe>=0.23 in /usr/local/lib/python3.7/dist-packages (from jinja2->spacy<3.4.0,>=3.3.0.dev0->en-core-web-sm==3.3.0) (2.0.1)\n",
            "\u001b[33mWARNING: Running pip as the 'root' user can result in broken permissions and conflicting behaviour with the system package manager. It is recommended to use a virtual environment instead: https://pip.pypa.io/warnings/venv\u001b[0m\u001b[33m\n",
            "\u001b[0m\u001b[38;5;2m✔ Download and installation successful\u001b[0m\n",
            "You can now load the package via spacy.load('en_core_web_sm')\n",
            "Looking in indexes: https://pypi.org/simple, https://us-python.pkg.dev/colab-wheels/public/simple/\n",
            "Requirement already satisfied: pandas in /usr/local/lib/python3.7/dist-packages (1.3.5)\n",
            "Requirement already satisfied: pytz>=2017.3 in /usr/local/lib/python3.7/dist-packages (from pandas) (2022.1)\n",
            "Requirement already satisfied: python-dateutil>=2.7.3 in /usr/local/lib/python3.7/dist-packages (from pandas) (2.8.2)\n",
            "Requirement already satisfied: numpy>=1.17.3 in /usr/local/lib/python3.7/dist-packages (from pandas) (1.21.6)\n",
            "Requirement already satisfied: six>=1.5 in /usr/local/lib/python3.7/dist-packages (from python-dateutil>=2.7.3->pandas) (1.15.0)\n",
            "\u001b[33mWARNING: Running pip as the 'root' user can result in broken permissions and conflicting behaviour with the system package manager. It is recommended to use a virtual environment instead: https://pip.pypa.io/warnings/venv\u001b[0m\u001b[33m\n",
            "\u001b[0mLooking in indexes: https://pypi.org/simple, https://us-python.pkg.dev/colab-wheels/public/simple/\n",
            "Requirement already satisfied: sklearn in /usr/local/lib/python3.7/dist-packages (0.0)\n",
            "Requirement already satisfied: scikit-learn in /usr/local/lib/python3.7/dist-packages (from sklearn) (1.0.2)\n",
            "Requirement already satisfied: joblib>=0.11 in /usr/local/lib/python3.7/dist-packages (from scikit-learn->sklearn) (1.1.0)\n",
            "Requirement already satisfied: numpy>=1.14.6 in /usr/local/lib/python3.7/dist-packages (from scikit-learn->sklearn) (1.21.6)\n",
            "Requirement already satisfied: threadpoolctl>=2.0.0 in /usr/local/lib/python3.7/dist-packages (from scikit-learn->sklearn) (3.1.0)\n",
            "Requirement already satisfied: scipy>=1.1.0 in /usr/local/lib/python3.7/dist-packages (from scikit-learn->sklearn) (1.4.1)\n",
            "\u001b[33mWARNING: Running pip as the 'root' user can result in broken permissions and conflicting behaviour with the system package manager. It is recommended to use a virtual environment instead: https://pip.pypa.io/warnings/venv\u001b[0m\u001b[33m\n",
            "\u001b[0m"
          ]
        }
      ],
      "source": [
        "# Install necessary libraries\n",
        "# Note: You may need to restart your kernel!\n",
        "!pip install -U pip setuptools wheel\n",
        "!pip install -U spacy\n",
        "!python -m spacy download en_core_web_sm\n",
        "!pip install pandas\n",
        "!pip3 install sklearn"
      ]
    },
    {
      "cell_type": "code",
      "execution_count": null,
      "metadata": {
        "id": "hhwD07_nhwGs"
      },
      "outputs": [],
      "source": [
        "import pandas as pd\n",
        "import tensorflow as tf\n",
        "device_name = tf.test.gpu_device_name()\n",
        "\n",
        "summary = pd.read_csv('news_summary.csv', encoding='iso-8859-1')\n",
        "raw = pd.read_csv('news_summary_more.csv', encoding='iso-8859-1')"
      ]
    },
    {
      "cell_type": "code",
      "execution_count": null,
      "metadata": {
        "id": "RxVUUGzLh3XV"
      },
      "outputs": [],
      "source": [
        "pre1 =  raw.iloc[:, 0:2].copy()\n",
        "pre2 = summary.iloc[:, 0:6].copy()\n",
        "\n",
        "# To increase the intake of possible text values to build a reliable model\n",
        "pre2['text'] = pre2['author'].str.cat(pre2['date'].str.cat(pre2['read_more'].str.cat(pre2['text'].str.cat(pre2['ctext'], sep = \" \"), sep = \" \"),sep = \" \"), sep = \" \")\n",
        "\n",
        "pre = pd.DataFrame()\n",
        "pre['text'] = pd.concat([pre1['text'], pre2['text']], ignore_index=True)\n",
        "pre['summary'] = pd.concat([pre1['headlines'],pre2['headlines']], ignore_index = True)"
      ]
    },
    {
      "cell_type": "code",
      "execution_count": null,
      "metadata": {
        "colab": {
          "base_uri": "https://localhost:8080/",
          "height": 112
        },
        "id": "-W77SfIAh-Up",
        "outputId": "1d9b64c5-001f-4403-a349-3ea275c99141"
      },
      "outputs": [
        {
          "output_type": "execute_result",
          "data": {
            "text/plain": [
              "                                                text  \\\n",
              "0  Saurav Kant, an alumnus of upGrad and IIIT-B's...   \n",
              "1  Kunal Shah's credit card bill payment platform...   \n",
              "\n",
              "                                             summary  \n",
              "0  upGrad learner switches to career in ML & Al w...  \n",
              "1  Delhi techie wins free food from Swiggy for on...  "
            ],
            "text/html": [
              "\n",
              "  <div id=\"df-970f5843-08a1-40e9-a211-5d549a5d89c1\">\n",
              "    <div class=\"colab-df-container\">\n",
              "      <div>\n",
              "<style scoped>\n",
              "    .dataframe tbody tr th:only-of-type {\n",
              "        vertical-align: middle;\n",
              "    }\n",
              "\n",
              "    .dataframe tbody tr th {\n",
              "        vertical-align: top;\n",
              "    }\n",
              "\n",
              "    .dataframe thead th {\n",
              "        text-align: right;\n",
              "    }\n",
              "</style>\n",
              "<table border=\"1\" class=\"dataframe\">\n",
              "  <thead>\n",
              "    <tr style=\"text-align: right;\">\n",
              "      <th></th>\n",
              "      <th>text</th>\n",
              "      <th>summary</th>\n",
              "    </tr>\n",
              "  </thead>\n",
              "  <tbody>\n",
              "    <tr>\n",
              "      <th>0</th>\n",
              "      <td>Saurav Kant, an alumnus of upGrad and IIIT-B's...</td>\n",
              "      <td>upGrad learner switches to career in ML &amp; Al w...</td>\n",
              "    </tr>\n",
              "    <tr>\n",
              "      <th>1</th>\n",
              "      <td>Kunal Shah's credit card bill payment platform...</td>\n",
              "      <td>Delhi techie wins free food from Swiggy for on...</td>\n",
              "    </tr>\n",
              "  </tbody>\n",
              "</table>\n",
              "</div>\n",
              "      <button class=\"colab-df-convert\" onclick=\"convertToInteractive('df-970f5843-08a1-40e9-a211-5d549a5d89c1')\"\n",
              "              title=\"Convert this dataframe to an interactive table.\"\n",
              "              style=\"display:none;\">\n",
              "        \n",
              "  <svg xmlns=\"http://www.w3.org/2000/svg\" height=\"24px\"viewBox=\"0 0 24 24\"\n",
              "       width=\"24px\">\n",
              "    <path d=\"M0 0h24v24H0V0z\" fill=\"none\"/>\n",
              "    <path d=\"M18.56 5.44l.94 2.06.94-2.06 2.06-.94-2.06-.94-.94-2.06-.94 2.06-2.06.94zm-11 1L8.5 8.5l.94-2.06 2.06-.94-2.06-.94L8.5 2.5l-.94 2.06-2.06.94zm10 10l.94 2.06.94-2.06 2.06-.94-2.06-.94-.94-2.06-.94 2.06-2.06.94z\"/><path d=\"M17.41 7.96l-1.37-1.37c-.4-.4-.92-.59-1.43-.59-.52 0-1.04.2-1.43.59L10.3 9.45l-7.72 7.72c-.78.78-.78 2.05 0 2.83L4 21.41c.39.39.9.59 1.41.59.51 0 1.02-.2 1.41-.59l7.78-7.78 2.81-2.81c.8-.78.8-2.07 0-2.86zM5.41 20L4 18.59l7.72-7.72 1.47 1.35L5.41 20z\"/>\n",
              "  </svg>\n",
              "      </button>\n",
              "      \n",
              "  <style>\n",
              "    .colab-df-container {\n",
              "      display:flex;\n",
              "      flex-wrap:wrap;\n",
              "      gap: 12px;\n",
              "    }\n",
              "\n",
              "    .colab-df-convert {\n",
              "      background-color: #E8F0FE;\n",
              "      border: none;\n",
              "      border-radius: 50%;\n",
              "      cursor: pointer;\n",
              "      display: none;\n",
              "      fill: #1967D2;\n",
              "      height: 32px;\n",
              "      padding: 0 0 0 0;\n",
              "      width: 32px;\n",
              "    }\n",
              "\n",
              "    .colab-df-convert:hover {\n",
              "      background-color: #E2EBFA;\n",
              "      box-shadow: 0px 1px 2px rgba(60, 64, 67, 0.3), 0px 1px 3px 1px rgba(60, 64, 67, 0.15);\n",
              "      fill: #174EA6;\n",
              "    }\n",
              "\n",
              "    [theme=dark] .colab-df-convert {\n",
              "      background-color: #3B4455;\n",
              "      fill: #D2E3FC;\n",
              "    }\n",
              "\n",
              "    [theme=dark] .colab-df-convert:hover {\n",
              "      background-color: #434B5C;\n",
              "      box-shadow: 0px 1px 3px 1px rgba(0, 0, 0, 0.15);\n",
              "      filter: drop-shadow(0px 1px 2px rgba(0, 0, 0, 0.3));\n",
              "      fill: #FFFFFF;\n",
              "    }\n",
              "  </style>\n",
              "\n",
              "      <script>\n",
              "        const buttonEl =\n",
              "          document.querySelector('#df-970f5843-08a1-40e9-a211-5d549a5d89c1 button.colab-df-convert');\n",
              "        buttonEl.style.display =\n",
              "          google.colab.kernel.accessAllowed ? 'block' : 'none';\n",
              "\n",
              "        async function convertToInteractive(key) {\n",
              "          const element = document.querySelector('#df-970f5843-08a1-40e9-a211-5d549a5d89c1');\n",
              "          const dataTable =\n",
              "            await google.colab.kernel.invokeFunction('convertToInteractive',\n",
              "                                                     [key], {});\n",
              "          if (!dataTable) return;\n",
              "\n",
              "          const docLinkHtml = 'Like what you see? Visit the ' +\n",
              "            '<a target=\"_blank\" href=https://colab.research.google.com/notebooks/data_table.ipynb>data table notebook</a>'\n",
              "            + ' to learn more about interactive tables.';\n",
              "          element.innerHTML = '';\n",
              "          dataTable['output_type'] = 'display_data';\n",
              "          await google.colab.output.renderOutput(dataTable, element);\n",
              "          const docLink = document.createElement('div');\n",
              "          docLink.innerHTML = docLinkHtml;\n",
              "          element.appendChild(docLink);\n",
              "        }\n",
              "      </script>\n",
              "    </div>\n",
              "  </div>\n",
              "  "
            ]
          },
          "metadata": {},
          "execution_count": 6
        }
      ],
      "source": [
        "pre.head(2)"
      ]
    },
    {
      "cell_type": "code",
      "execution_count": null,
      "metadata": {
        "id": "uKmSAuhDiQ0m"
      },
      "outputs": [],
      "source": [
        "import re\n",
        "\n",
        "# Remove non-alphabetic characters (Data Cleaning)\n",
        "def text_strip(column):\n",
        "    \n",
        "    for row in column:        \n",
        "        row = re.sub(\"(\\\\t)\", ' ', str(row)).lower() \n",
        "        row = re.sub(\"(\\\\r)\", ' ', str(row)).lower() \n",
        "        row = re.sub(\"(\\\\n)\", ' ', str(row)).lower()\n",
        "        \n",
        "        # Remove _ if it occurs more than one time consecutively\n",
        "        row = re.sub(\"(__+)\", ' ', str(row)).lower()   \n",
        "        \n",
        "        # Remove - if it occurs more than one time consecutively\n",
        "        row = re.sub(\"(--+)\", ' ', str(row)).lower()\n",
        "        \n",
        "        # Remove ~ if it occurs more than one time consecutively\n",
        "        row = re.sub(\"(~~+)\", ' ', str(row)).lower()   \n",
        "        \n",
        "        # Remove + if it occurs more than one time consecutively\n",
        "        row = re.sub(\"(\\+\\++)\", ' ', str(row)).lower()   \n",
        "        \n",
        "        # Remove . if it occurs more than one time consecutively\n",
        "        row = re.sub(\"(\\.\\.+)\", ' ', str(row)).lower()   \n",
        "        \n",
        "        # Remove the characters - <>()|&©ø\"',;?~*!\n",
        "        row = re.sub(r\"[<>()|&©ø\\[\\]\\'\\\",;?~*!]\", ' ', str(row)).lower() \n",
        "        \n",
        "        # Remove mailto:\n",
        "        row = re.sub(\"(mailto:)\", ' ', str(row)).lower() \n",
        "        \n",
        "        # Remove \\x9* in text\n",
        "        row = re.sub(r\"(\\\\x9\\d)\", ' ', str(row)).lower() \n",
        "        \n",
        "        # Replace INC nums to INC_NUM\n",
        "        row = re.sub(\"([iI][nN][cC]\\d+)\", 'INC_NUM', str(row)).lower() \n",
        "        \n",
        "        # Replace CM# and CHG# to CM_NUM\n",
        "        row = re.sub(\"([cC][mM]\\d+)|([cC][hH][gG]\\d+)\", 'CM_NUM', str(row)).lower() \n",
        "        \n",
        "        # Remove punctuations at the end of a word \n",
        "        row = re.sub(\"(\\.\\s+)\", ' ', str(row)).lower() \n",
        "        row = re.sub(\"(\\-\\s+)\", ' ', str(row)).lower() \n",
        "        row = re.sub(\"(\\:\\s+)\", ' ', str(row)).lower() \n",
        "                \n",
        "        # Replace any url to only the domain name\n",
        "        try:\n",
        "            url = re.search(r'((https*:\\/*)([^\\/\\s]+))(.[^\\s]+)', str(row))\n",
        "            repl_url = url.group(3)\n",
        "            row = re.sub(r'((https*:\\/*)([^\\/\\s]+))(.[^\\s]+)',repl_url, str(row))\n",
        "        except:\n",
        "            pass \n",
        "        \n",
        "        # Remove multiple spaces\n",
        "        row = re.sub(\"(\\s+)\",' ',str(row)).lower() \n",
        "        \n",
        "        # Remove the single character hanging between any two spaces\n",
        "        row = re.sub(\"(\\s+.\\s+)\", ' ', str(row)).lower() \n",
        "        \n",
        "        yield row"
      ]
    },
    {
      "cell_type": "code",
      "execution_count": null,
      "metadata": {
        "id": "NLclE2ALiXI0"
      },
      "outputs": [],
      "source": [
        "\n",
        "\n",
        "processed_text = text_strip(pre['text'])\n",
        "processed_summary = text_strip(pre['summary'])"
      ]
    },
    {
      "cell_type": "code",
      "execution_count": null,
      "metadata": {
        "id": "U9nUlCUqidRn"
      },
      "outputs": [],
      "source": [
        "import spacy\n",
        "from time import time\n",
        "\n",
        "nlp = spacy.load('en_core_web_sm', disable=['ner', 'parser']) \n",
        "\n",
        "# Process text as batches and yield Doc objects in order\n",
        "text = [str(doc) for doc in nlp.pipe(processed_text, batch_size=5)]\n",
        "\n",
        "summary = ['_START_ '+ str(doc) + ' _END_' for doc in nlp.pipe(processed_summary, batch_size=5)]"
      ]
    },
    {
      "cell_type": "code",
      "execution_count": null,
      "metadata": {
        "colab": {
          "base_uri": "https://localhost:8080/",
          "height": 53
        },
        "id": "JjgD0vpSjCFc",
        "outputId": "1a2091a5-264b-48fd-eb5a-307eeaf4494e"
      },
      "outputs": [
        {
          "output_type": "execute_result",
          "data": {
            "text/plain": [
              "'saurav kant an alumnus of upgrad and iiit-b pg program in machine learning and artificial intelligence was sr systems engineer at infosys with almost years of work experience the program and upgrad 360-degree career support helped him transition to data scientist at tech mahindra with 90% salary hike upgrad online power learning has powered lakh+ careers.'"
            ],
            "application/vnd.google.colaboratory.intrinsic+json": {
              "type": "string"
            }
          },
          "metadata": {},
          "execution_count": 32
        }
      ],
      "source": [
        "text[0]"
      ]
    },
    {
      "cell_type": "code",
      "execution_count": null,
      "metadata": {
        "colab": {
          "base_uri": "https://localhost:8080/",
          "height": 35
        },
        "id": "ssfE6FAPMtpa",
        "outputId": "8ae94478-19b7-4ec9-e3bb-dda6fd720ed8"
      },
      "outputs": [
        {
          "output_type": "execute_result",
          "data": {
            "text/plain": [
              "'_START_ upgrad learner switches to career in ml al with 90% salary hike _END_'"
            ],
            "application/vnd.google.colaboratory.intrinsic+json": {
              "type": "string"
            }
          },
          "metadata": {},
          "execution_count": 33
        }
      ],
      "source": [
        "summary[0]"
      ]
    },
    {
      "cell_type": "code",
      "execution_count": null,
      "metadata": {
        "id": "zobFXHZxScb4",
        "colab": {
          "base_uri": "https://localhost:8080/"
        },
        "outputId": "efee2ec0-08e0-4f02-b31e-98cbda4224f7"
      },
      "outputs": [
        {
          "output_type": "stream",
          "name": "stdout",
          "text": [
            "0         saurav kant an alumnus of upgrad and iiit-b pg...\n",
            "1         kunal shah credit card bill payment platform c...\n",
            "2         new zealand defeated india by wickets in the f...\n",
            "3         with aegon life iterm insurance plan customers...\n",
            "4         speaking about the sexual harassment allegatio...\n",
            "                                ...                        \n",
            "102910    mansha mahajan 24 feb 2017 friday indiatoday.i...\n",
            "102911    dishant sharma 03 aug 2017 thursday indiatoday...\n",
            "102912    tanya dhingra 03 aug 2017 thursday www.hindust...\n",
            "102913    pragya swastik 07 dec 2016 wednesday indiatoda...\n",
            "102914    chhavi tyagi 03 aug 2017 thursday indiatoday.i...\n",
            "Name: cleaned_text, Length: 102915, dtype: object\n"
          ]
        }
      ],
      "source": [
        "pre['cleaned_text'] = pd.Series(text)\n",
        "pre['cleaned_summary'] = pd.Series(summary)\n",
        "print(pre['cleaned_text'])"
      ]
    },
    {
      "cell_type": "code",
      "execution_count": null,
      "metadata": {
        "id": "yJXDj3ebSirb"
      },
      "outputs": [],
      "source": [
        "text_count = []\n",
        "summary_count = []"
      ]
    },
    {
      "cell_type": "code",
      "execution_count": null,
      "metadata": {
        "id": "FfhInbchSoj9"
      },
      "outputs": [],
      "source": [
        "for sent in pre['cleaned_text']:\n",
        "    text_count.append(len(sent.split()))\n",
        "    \n",
        "for sent in pre['cleaned_summary']:\n",
        "    summary_count.append(len(sent.split()))"
      ]
    },
    {
      "cell_type": "code",
      "execution_count": null,
      "metadata": {
        "id": "d56hIN0sSuYS"
      },
      "outputs": [],
      "source": [
        "graph_df = pd.DataFrame() \n",
        "\n",
        "graph_df['text'] = text_count\n",
        "graph_df['summary'] = summary_count"
      ]
    },
    {
      "cell_type": "code",
      "execution_count": null,
      "metadata": {
        "colab": {
          "base_uri": "https://localhost:8080/",
          "height": 281
        },
        "id": "dBbADeWfSzCy",
        "outputId": "cb65bb2b-2602-4c18-8e75-9d71aff32952"
      },
      "outputs": [
        {
          "output_type": "display_data",
          "data": {
            "text/plain": [
              "<Figure size 432x288 with 2 Axes>"
            ],
            "image/png": "[encoded data removed]"
          },
          "metadata": {
            "needs_background": "light"
          }
        }
      ],
      "source": [
        "import matplotlib.pyplot as plt\n",
        "\n",
        "graph_df.hist(bins = 5)\n",
        "plt.show()"
      ]
    },
    {
      "cell_type": "code",
      "execution_count": null,
      "metadata": {
        "colab": {
          "base_uri": "https://localhost:8080/"
        },
        "id": "euoCoPtGS7Au",
        "outputId": "87e0756e-dffa-4526-ec2a-20c78d505c30"
      },
      "outputs": [
        {
          "output_type": "stream",
          "name": "stdout",
          "text": [
            "0.9578389933440218\n"
          ]
        }
      ],
      "source": [
        "# Check how much % of text have 0-100 words\n",
        "cnt = 0\n",
        "for i in pre['cleaned_text']:\n",
        "    if len(i.split()) <= 100:\n",
        "        cnt = cnt + 1\n",
        "print(cnt / len(pre['cleaned_text']))"
      ]
    },
    {
      "cell_type": "code",
      "execution_count": null,
      "metadata": {
        "id": "gUeejthMTCld"
      },
      "outputs": [],
      "source": [
        "# Model to summarize the text between 0-15 words for Summary and 0-100 words for Text\n",
        "max_text_len = 100\n",
        "max_summary_len = 15"
      ]
    },
    {
      "cell_type": "code",
      "execution_count": null,
      "metadata": {
        "id": "XBbUuKUeTHUj"
      },
      "outputs": [],
      "source": [
        "# Select the Summaries and Text which fall below max length \n",
        "import numpy as np\n",
        "\n",
        "cleaned_text = np.array(pre['cleaned_text'])\n",
        "cleaned_summary= np.array(pre['cleaned_summary'])\n",
        "\n",
        "short_text = []\n",
        "short_summary = []\n",
        "\n",
        "for i in range(len(cleaned_text)):\n",
        "    if len(cleaned_summary[i].split()) <= max_summary_len and len(cleaned_text[i].split()) <= max_text_len:\n",
        "        short_text.append(cleaned_text[i])\n",
        "        short_summary.append(cleaned_summary[i])\n",
        "        \n",
        "post_pre = pd.DataFrame({'text': short_text,'summary': short_summary})"
      ]
    },
    {
      "cell_type": "code",
      "execution_count": null,
      "metadata": {
        "colab": {
          "base_uri": "https://localhost:8080/",
          "height": 112
        },
        "id": "xoxEgKolTMYi",
        "outputId": "d5613b64-73e3-4d31-c5eb-1f33b0331354"
      },
      "outputs": [
        {
          "output_type": "execute_result",
          "data": {
            "text/plain": [
              "                                                text  \\\n",
              "0  saurav kant an alumnus of upgrad and iiit-b pg...   \n",
              "1  kunal shah credit card bill payment platform c...   \n",
              "\n",
              "                                             summary  \n",
              "0  _START_ upgrad learner switches to career in m...  \n",
              "1  _START_ delhi techie wins free food from swigg...  "
            ],
            "text/html": [
              "\n",
              "  <div id=\"df-73eacbde-e646-40b2-9aca-56a019288bee\">\n",
              "    <div class=\"colab-df-container\">\n",
              "      <div>\n",
              "<style scoped>\n",
              "    .dataframe tbody tr th:only-of-type {\n",
              "        vertical-align: middle;\n",
              "    }\n",
              "\n",
              "    .dataframe tbody tr th {\n",
              "        vertical-align: top;\n",
              "    }\n",
              "\n",
              "    .dataframe thead th {\n",
              "        text-align: right;\n",
              "    }\n",
              "</style>\n",
              "<table border=\"1\" class=\"dataframe\">\n",
              "  <thead>\n",
              "    <tr style=\"text-align: right;\">\n",
              "      <th></th>\n",
              "      <th>text</th>\n",
              "      <th>summary</th>\n",
              "    </tr>\n",
              "  </thead>\n",
              "  <tbody>\n",
              "    <tr>\n",
              "      <th>0</th>\n",
              "      <td>saurav kant an alumnus of upgrad and iiit-b pg...</td>\n",
              "      <td>_START_ upgrad learner switches to career in m...</td>\n",
              "    </tr>\n",
              "    <tr>\n",
              "      <th>1</th>\n",
              "      <td>kunal shah credit card bill payment platform c...</td>\n",
              "      <td>_START_ delhi techie wins free food from swigg...</td>\n",
              "    </tr>\n",
              "  </tbody>\n",
              "</table>\n",
              "</div>\n",
              "      <button class=\"colab-df-convert\" onclick=\"convertToInteractive('df-73eacbde-e646-40b2-9aca-56a019288bee')\"\n",
              "              title=\"Convert this dataframe to an interactive table.\"\n",
              "              style=\"display:none;\">\n",
              "        \n",
              "  <svg xmlns=\"http://www.w3.org/2000/svg\" height=\"24px\"viewBox=\"0 0 24 24\"\n",
              "       width=\"24px\">\n",
              "    <path d=\"M0 0h24v24H0V0z\" fill=\"none\"/>\n",
              "    <path d=\"M18.56 5.44l.94 2.06.94-2.06 2.06-.94-2.06-.94-.94-2.06-.94 2.06-2.06.94zm-11 1L8.5 8.5l.94-2.06 2.06-.94-2.06-.94L8.5 2.5l-.94 2.06-2.06.94zm10 10l.94 2.06.94-2.06 2.06-.94-2.06-.94-.94-2.06-.94 2.06-2.06.94z\"/><path d=\"M17.41 7.96l-1.37-1.37c-.4-.4-.92-.59-1.43-.59-.52 0-1.04.2-1.43.59L10.3 9.45l-7.72 7.72c-.78.78-.78 2.05 0 2.83L4 21.41c.39.39.9.59 1.41.59.51 0 1.02-.2 1.41-.59l7.78-7.78 2.81-2.81c.8-.78.8-2.07 0-2.86zM5.41 20L4 18.59l7.72-7.72 1.47 1.35L5.41 20z\"/>\n",
              "  </svg>\n",
              "      </button>\n",
              "      \n",
              "  <style>\n",
              "    .colab-df-container {\n",
              "      display:flex;\n",
              "      flex-wrap:wrap;\n",
              "      gap: 12px;\n",
              "    }\n",
              "\n",
              "    .colab-df-convert {\n",
              "      background-color: #E8F0FE;\n",
              "      border: none;\n",
              "      border-radius: 50%;\n",
              "      cursor: pointer;\n",
              "      display: none;\n",
              "      fill: #1967D2;\n",
              "      height: 32px;\n",
              "      padding: 0 0 0 0;\n",
              "      width: 32px;\n",
              "    }\n",
              "\n",
              "    .colab-df-convert:hover {\n",
              "      background-color: #E2EBFA;\n",
              "      box-shadow: 0px 1px 2px rgba(60, 64, 67, 0.3), 0px 1px 3px 1px rgba(60, 64, 67, 0.15);\n",
              "      fill: #174EA6;\n",
              "    }\n",
              "\n",
              "    [theme=dark] .colab-df-convert {\n",
              "      background-color: #3B4455;\n",
              "      fill: #D2E3FC;\n",
              "    }\n",
              "\n",
              "    [theme=dark] .colab-df-convert:hover {\n",
              "      background-color: #434B5C;\n",
              "      box-shadow: 0px 1px 3px 1px rgba(0, 0, 0, 0.15);\n",
              "      filter: drop-shadow(0px 1px 2px rgba(0, 0, 0, 0.3));\n",
              "      fill: #FFFFFF;\n",
              "    }\n",
              "  </style>\n",
              "\n",
              "      <script>\n",
              "        const buttonEl =\n",
              "          document.querySelector('#df-73eacbde-e646-40b2-9aca-56a019288bee button.colab-df-convert');\n",
              "        buttonEl.style.display =\n",
              "          google.colab.kernel.accessAllowed ? 'block' : 'none';\n",
              "\n",
              "        async function convertToInteractive(key) {\n",
              "          const element = document.querySelector('#df-73eacbde-e646-40b2-9aca-56a019288bee');\n",
              "          const dataTable =\n",
              "            await google.colab.kernel.invokeFunction('convertToInteractive',\n",
              "                                                     [key], {});\n",
              "          if (!dataTable) return;\n",
              "\n",
              "          const docLinkHtml = 'Like what you see? Visit the ' +\n",
              "            '<a target=\"_blank\" href=https://colab.research.google.com/notebooks/data_table.ipynb>data table notebook</a>'\n",
              "            + ' to learn more about interactive tables.';\n",
              "          element.innerHTML = '';\n",
              "          dataTable['output_type'] = 'display_data';\n",
              "          await google.colab.output.renderOutput(dataTable, element);\n",
              "          const docLink = document.createElement('div');\n",
              "          docLink.innerHTML = docLinkHtml;\n",
              "          element.appendChild(docLink);\n",
              "        }\n",
              "      </script>\n",
              "    </div>\n",
              "  </div>\n",
              "  "
            ]
          },
          "metadata": {},
          "execution_count": 42
        }
      ],
      "source": [
        "post_pre.head(2)"
      ]
    },
    {
      "cell_type": "code",
      "execution_count": null,
      "metadata": {
        "id": "fc_cabJ8TT_y"
      },
      "outputs": [],
      "source": [
        "from sklearn.model_selection import train_test_split\n",
        "\n",
        "x_tr, x_val, y_tr, y_val = train_test_split(np.array(post_pre['text']),np.array(post_pre['summary']), test_size=0.1, random_state=0, shuffle=True)"
      ]
    },
    {
      "cell_type": "code",
      "execution_count": null,
      "metadata": {
        "id": "g9LpHqflTZSx"
      },
      "outputs": [],
      "source": [
        "# Tokenize the text to get the vocab count \n",
        "from tensorflow.keras.preprocessing.text import Tokenizer \n",
        "from tensorflow.keras.preprocessing.sequence import pad_sequences\n",
        "\n",
        "# Prepare a tokenizer on training data\n",
        "x_tokenizer = Tokenizer() \n",
        "x_tokenizer.fit_on_texts(list(x_tr))"
      ]
    },
    {
      "cell_type": "code",
      "execution_count": null,
      "metadata": {
        "colab": {
          "base_uri": "https://localhost:8080/"
        },
        "id": "dPi-A_OyTfuW",
        "outputId": "a3bd133d-9bd9-4a05-ceb1-b9aee1e14891"
      },
      "outputs": [
        {
          "output_type": "stream",
          "name": "stdout",
          "text": [
            "% of rare words in vocabulary:  62.625791318822664\n"
          ]
        }
      ],
      "source": [
        "thresh = 5\n",
        "\n",
        "cnt = 0\n",
        "tot_cnt = 0\n",
        "\n",
        "for key, value in x_tokenizer.word_counts.items():\n",
        "    tot_cnt = tot_cnt + 1\n",
        "    if value < thresh:\n",
        "        cnt = cnt + 1\n",
        "    \n",
        "print(\"% of rare words in vocabulary: \",(cnt / tot_cnt) * 100)"
      ]
    },
    {
      "cell_type": "code",
      "execution_count": null,
      "metadata": {
        "colab": {
          "base_uri": "https://localhost:8080/"
        },
        "id": "eRe-otQpTnEc",
        "outputId": "dce6401f-a876-422b-c3e7-3d870e4ccd00"
      },
      "outputs": [
        {
          "output_type": "stream",
          "name": "stdout",
          "text": [
            "Size of vocabulary in X = 29638\n"
          ]
        }
      ],
      "source": [
        "# Prepare a tokenizer, again -- by not considering the rare words\n",
        "x_tokenizer = Tokenizer(num_words = tot_cnt - cnt) \n",
        "x_tokenizer.fit_on_texts(list(x_tr))\n",
        "\n",
        "# Convert text sequences to integer sequences \n",
        "x_tr_seq = x_tokenizer.texts_to_sequences(x_tr) \n",
        "x_val_seq = x_tokenizer.texts_to_sequences(x_val)\n",
        "\n",
        "# Pad zero upto maximum length\n",
        "x_tr = pad_sequences(x_tr_seq,  maxlen=max_text_len, padding='post')\n",
        "x_val = pad_sequences(x_val_seq, maxlen=max_text_len, padding='post')\n",
        "\n",
        "# Size of vocabulary (+1 for padding token)\n",
        "x_voc = x_tokenizer.num_words + 1\n",
        "\n",
        "print(\"Size of vocabulary in X = {}\".format(x_voc))"
      ]
    },
    {
      "cell_type": "code",
      "execution_count": null,
      "metadata": {
        "id": "dEMEKRYaTvLs"
      },
      "outputs": [],
      "source": [
        "# Prepare a tokenizer on testing data\n",
        "y_tokenizer = Tokenizer()   \n",
        "y_tokenizer.fit_on_texts(list(y_tr))"
      ]
    },
    {
      "cell_type": "code",
      "execution_count": null,
      "metadata": {
        "colab": {
          "base_uri": "https://localhost:8080/"
        },
        "id": "9AK1uCN9T1ka",
        "outputId": "61a68deb-03ee-468b-f769-1ed07c7a78ee"
      },
      "outputs": [
        {
          "output_type": "stream",
          "name": "stdout",
          "text": [
            "% of rare words in vocabulary: 62.56031626068251\n"
          ]
        }
      ],
      "source": [
        "thresh = 5\n",
        "\n",
        "cnt = 0\n",
        "tot_cnt = 0\n",
        "\n",
        "for key, value in y_tokenizer.word_counts.items():\n",
        "    tot_cnt = tot_cnt + 1\n",
        "    if value < thresh:\n",
        "        cnt = cnt + 1\n",
        "    \n",
        "print(\"% of rare words in vocabulary:\",(cnt / tot_cnt) * 100)"
      ]
    },
    {
      "cell_type": "code",
      "execution_count": null,
      "metadata": {
        "colab": {
          "base_uri": "https://localhost:8080/"
        },
        "id": "shHn4nVqUFLX",
        "outputId": "aa608d93-57bd-446c-f726-f780483b5c1c"
      },
      "outputs": [
        {
          "output_type": "stream",
          "name": "stdout",
          "text": [
            "Size of vocabulary in Y = 12881\n"
          ]
        }
      ],
      "source": [
        "# Prepare a tokenizer, again -- by not considering the rare words\n",
        "y_tokenizer = Tokenizer(num_words=tot_cnt-cnt) \n",
        "y_tokenizer.fit_on_texts(list(y_tr))\n",
        "\n",
        "# Convert text sequences to integer sequences \n",
        "y_tr_seq = y_tokenizer.texts_to_sequences(y_tr) \n",
        "y_val_seq = y_tokenizer.texts_to_sequences(y_val) \n",
        "\n",
        "# Pad zero upto maximum length\n",
        "y_tr = pad_sequences(y_tr_seq, maxlen=max_summary_len, padding='post')\n",
        "y_val = pad_sequences(y_val_seq, maxlen=max_summary_len, padding='post')\n",
        "\n",
        "# Size of vocabulary (+1 for padding token)\n",
        "y_voc = y_tokenizer.num_words + 1\n",
        "\n",
        "print(\"Size of vocabulary in Y = {}\".format(y_voc))"
      ]
    },
    {
      "cell_type": "code",
      "execution_count": null,
      "metadata": {
        "id": "gWhn-LWzULRm"
      },
      "outputs": [],
      "source": [
        "# Remove empty Summaries, .i.e, which only have 'START' and 'END' tokens\n",
        "ind = []\n",
        "\n",
        "for i in range(len(y_tr)):\n",
        "    cnt = 0\n",
        "    for j in y_tr[i]:\n",
        "        if j != 0:\n",
        "            cnt = cnt + 1\n",
        "    if cnt == 2:\n",
        "        ind.append(i)\n",
        "\n",
        "y_tr = np.delete(y_tr, ind, axis=0)\n",
        "x_tr = np.delete(x_tr, ind, axis=0)"
      ]
    },
    {
      "cell_type": "code",
      "execution_count": null,
      "metadata": {
        "id": "OVv0mrLyURz2"
      },
      "outputs": [],
      "source": [
        "# Remove empty Summaries, .i.e, which only have 'START' and 'END' tokens\n",
        "ind = []\n",
        "for i in range(len(y_val)):\n",
        "    cnt = 0\n",
        "    for j in y_val[i]:\n",
        "        if j != 0:\n",
        "            cnt = cnt + 1\n",
        "    if cnt == 2:\n",
        "        ind.append(i)\n",
        "\n",
        "y_val = np.delete(y_val, ind, axis=0)\n",
        "x_val = np.delete(x_val, ind, axis=0)"
      ]
    },
    {
      "cell_type": "code",
      "execution_count": null,
      "metadata": {
        "colab": {
          "base_uri": "https://localhost:8080/"
        },
        "id": "6xuXgBUvUYFd",
        "outputId": "42ea92d6-d263-4feb-c851-03944ad1c990"
      },
      "outputs": [
        {
          "output_type": "stream",
          "name": "stdout",
          "text": [
            "Model: \"model\"\n",
            "__________________________________________________________________________________________________\n",
            " Layer (type)                   Output Shape         Param #     Connected to                     \n",
            "==================================================================================================\n",
            " input_1 (InputLayer)           [(None, 100)]        0           []                               \n",
            "                                                                                                  \n",
            " embedding (Embedding)          (None, 100, 200)     5927600     ['input_1[0][0]']                \n",
            "                                                                                                  \n",
            " lstm (LSTM)                    [(None, 100, 300),   601200      ['embedding[0][0]']              \n",
            "                                 (None, 300),                                                     \n",
            "                                 (None, 300)]                                                     \n",
            "                                                                                                  \n",
            " input_2 (InputLayer)           [(None, None)]       0           []                               \n",
            "                                                                                                  \n",
            " lstm_1 (LSTM)                  [(None, 100, 300),   721200      ['lstm[0][0]']                   \n",
            "                                 (None, 300),                                                     \n",
            "                                 (None, 300)]                                                     \n",
            "                                                                                                  \n",
            " embedding_1 (Embedding)        (None, None, 200)    2576200     ['input_2[0][0]']                \n",
            "                                                                                                  \n",
            " lstm_2 (LSTM)                  [(None, 100, 300),   721200      ['lstm_1[0][0]']                 \n",
            "                                 (None, 300),                                                     \n",
            "                                 (None, 300)]                                                     \n",
            "                                                                                                  \n",
            " lstm_3 (LSTM)                  [(None, None, 300),  601200      ['embedding_1[0][0]',            \n",
            "                                 (None, 300),                     'lstm_2[0][1]',                 \n",
            "                                 (None, 300)]                     'lstm_2[0][2]']                 \n",
            "                                                                                                  \n",
            " time_distributed (TimeDistribu  (None, None, 12881)  3877181    ['lstm_3[0][0]']                 \n",
            " ted)                                                                                             \n",
            "                                                                                                  \n",
            "==================================================================================================\n",
            "Total params: 15,025,781\n",
            "Trainable params: 15,025,781\n",
            "Non-trainable params: 0\n",
            "__________________________________________________________________________________________________\n"
          ]
        }
      ],
      "source": [
        "from tensorflow.keras.preprocessing.text import Tokenizer \n",
        "from tensorflow.keras.preprocessing.sequence import pad_sequences\n",
        "from tensorflow.keras.layers import Input, LSTM, Embedding, Dense, Concatenate, TimeDistributed\n",
        "from tensorflow.keras.models import Model\n",
        "from tensorflow.keras.callbacks import EarlyStopping\n",
        "\n",
        "latent_dim = 300\n",
        "embedding_dim = 200\n",
        "\n",
        "# Encoder\n",
        "encoder_inputs = Input(shape=(max_text_len, ))\n",
        "\n",
        "# Embedding layer\n",
        "enc_emb =  Embedding(x_voc, embedding_dim, trainable=True)(encoder_inputs)\n",
        "\n",
        "# Encoder LSTM 1\n",
        "encoder_lstm1 = LSTM(latent_dim, return_sequences=True, return_state=True, dropout=0.4, recurrent_dropout=0.4)\n",
        "encoder_output1, state_h1, state_c1 = encoder_lstm1(enc_emb)\n",
        "\n",
        "# Encoder LSTM 2\n",
        "encoder_lstm2 = LSTM(latent_dim, return_sequences=True, return_state=True, dropout=0.4, recurrent_dropout=0.4)\n",
        "encoder_output2, state_h2, state_c2 = encoder_lstm2(encoder_output1)\n",
        "\n",
        "# Encoder LSTM 3\n",
        "encoder_lstm3 = LSTM(latent_dim, return_state=True, return_sequences=True, dropout=0.4, recurrent_dropout=0.4)\n",
        "encoder_outputs, state_h, state_c= encoder_lstm3(encoder_output2)\n",
        "\n",
        "# Set up the decoder, using `encoder_states` as the initial state\n",
        "decoder_inputs = Input(shape=(None, ))\n",
        "\n",
        "# Embedding layer\n",
        "dec_emb_layer = Embedding(y_voc, embedding_dim,trainable=True)\n",
        "dec_emb = dec_emb_layer(decoder_inputs)\n",
        "\n",
        "# Decoder LSTM\n",
        "decoder_lstm = LSTM(latent_dim, return_sequences=True, return_state=True, dropout=0.4, recurrent_dropout=0.2)\n",
        "decoder_outputs, decoder_fwd_state, decoder_back_state = decoder_lstm(dec_emb, initial_state=[state_h, state_c])\n",
        "\n",
        "# Dense layer\n",
        "decoder_dense =  TimeDistributed(Dense(y_voc, activation='softmax'))\n",
        "decoder_outputs = decoder_dense(decoder_outputs)\n",
        "\n",
        "# Define the model \n",
        "model = Model([encoder_inputs, decoder_inputs], decoder_outputs)\n",
        "\n",
        "model.summary()\n"
      ]
    },
    {
      "cell_type": "code",
      "execution_count": null,
      "metadata": {
        "id": "fyZykCuIUfW-"
      },
      "outputs": [],
      "source": [
        "model.compile(optimizer='rmsprop', loss='sparse_categorical_crossentropy')"
      ]
    },
    {
      "cell_type": "code",
      "execution_count": null,
      "metadata": {
        "id": "24vMWt8RUlN4"
      },
      "outputs": [],
      "source": [
        "es = EarlyStopping(monitor='val_loss', mode='min', verbose=1, patience=2)"
      ]
    },
    {
      "cell_type": "code",
      "execution_count": null,
      "metadata": {
        "colab": {
          "base_uri": "https://localhost:8080/"
        },
        "id": "MS2LbfnCUqMO",
        "outputId": "dd18e951-48e8-494b-c739-154bb00c9d1a"
      },
      "outputs": [
        {
          "output_type": "stream",
          "name": "stdout",
          "text": [
            "Epoch 1/10\n",
            "692/692 [==============================] - 696s 1s/step - loss: 4.6378 - val_loss: 4.4463\n",
            "Epoch 2/10\n",
            "692/692 [==============================] - 697s 1s/step - loss: 4.3655 - val_loss: 4.2167\n",
            "Epoch 3/10\n",
            "692/692 [==============================] - 697s 1s/step - loss: 4.1471 - val_loss: 4.0426\n",
            "Epoch 4/10\n",
            "692/692 [==============================] - 698s 1s/step - loss: 3.9897 - val_loss: 3.9226\n",
            "Epoch 5/10\n",
            "692/692 [==============================] - 697s 1s/step - loss: 3.8634 - val_loss: 3.8298\n",
            "Epoch 6/10\n",
            "692/692 [==============================] - 698s 1s/step - loss: 3.7577 - val_loss: 3.7603\n",
            "Epoch 7/10\n",
            "692/692 [==============================] - 699s 1s/step - loss: 3.6702 - val_loss: 3.7026\n",
            "Epoch 8/10\n",
            "692/692 [==============================] - 699s 1s/step - loss: 3.5901 - val_loss: 3.6479\n",
            "Epoch 9/10\n",
            "692/692 [==============================] - 700s 1s/step - loss: 3.5187 - val_loss: 3.6040\n",
            "Epoch 10/10\n",
            "692/692 [==============================] - 699s 1s/step - loss: 3.4561 - val_loss: 3.5679\n"
          ]
        }
      ],
      "source": [
        "# Note: this will take a while. Run as many epochs as needed.\n",
        "with tf.device(device_name):\n",
        "  history = model.fit([x_tr, y_tr[:,:-1]], y_tr.reshape(y_tr.shape[0], y_tr.shape[1], 1)[:,1:], epochs=10, callbacks=[es], batch_size=128, validation_data=([x_val, y_val[:, :-1]], y_val.reshape(y_val.shape[0], y_val.shape[1], 1)[:,1:]))"
      ]
    },
    {
      "cell_type": "code",
      "source": [
        "!mkdir -p saved_model\n",
        "with tf.device(device_name):\n",
        "  model.save('saved_model/saved_summarizer.h5')"
      ],
      "metadata": {
        "id": "nRRrwH_deadu"
      },
      "execution_count": null,
      "outputs": []
    },
    {
      "cell_type": "code",
      "source": [
        "loaded_model = tf.keras.models.load_model('saved_model/saved_summarizer.h5')\n",
        "print(loaded_model.summary())"
      ],
      "metadata": {
        "colab": {
          "base_uri": "https://localhost:8080/"
        },
        "id": "rpHZt6BWXJvW",
        "outputId": "5a57e39c-ee97-4cb6-ff13-a869de17a2ac"
      },
      "execution_count": null,
      "outputs": [
        {
          "output_type": "stream",
          "name": "stdout",
          "text": [
            "Model: \"model\"\n",
            "__________________________________________________________________________________________________\n",
            " Layer (type)                   Output Shape         Param #     Connected to                     \n",
            "==================================================================================================\n",
            " input_1 (InputLayer)           [(None, 100)]        0           []                               \n",
            "                                                                                                  \n",
            " embedding (Embedding)          (None, 100, 200)     5927600     ['input_1[0][0]']                \n",
            "                                                                                                  \n",
            " lstm (LSTM)                    [(None, 100, 300),   601200      ['embedding[0][0]']              \n",
            "                                 (None, 300),                                                     \n",
            "                                 (None, 300)]                                                     \n",
            "                                                                                                  \n",
            " input_2 (InputLayer)           [(None, None)]       0           []                               \n",
            "                                                                                                  \n",
            " lstm_1 (LSTM)                  [(None, 100, 300),   721200      ['lstm[0][0]']                   \n",
            "                                 (None, 300),                                                     \n",
            "                                 (None, 300)]                                                     \n",
            "                                                                                                  \n",
            " embedding_1 (Embedding)        (None, None, 200)    2576200     ['input_2[0][0]']                \n",
            "                                                                                                  \n",
            " lstm_2 (LSTM)                  [(None, 100, 300),   721200      ['lstm_1[0][0]']                 \n",
            "                                 (None, 300),                                                     \n",
            "                                 (None, 300)]                                                     \n",
            "                                                                                                  \n",
            " lstm_3 (LSTM)                  [(None, None, 300),  601200      ['embedding_1[0][0]',            \n",
            "                                 (None, 300),                     'lstm_2[0][1]',                 \n",
            "                                 (None, 300)]                     'lstm_2[0][2]']                 \n",
            "                                                                                                  \n",
            " time_distributed (TimeDistribu  (None, None, 12881)  3877181    ['lstm_3[0][0]']                 \n",
            " ted)                                                                                             \n",
            "                                                                                                  \n",
            "==================================================================================================\n",
            "Total params: 15,025,781\n",
            "Trainable params: 15,025,781\n",
            "Non-trainable params: 0\n",
            "__________________________________________________________________________________________________\n",
            "None\n"
          ]
        }
      ]
    },
    {
      "cell_type": "code",
      "execution_count": null,
      "metadata": {
        "id": "X5kbBw1Duj4j",
        "colab": {
          "base_uri": "https://localhost:8080/",
          "height": 265
        },
        "outputId": "c0d09898-1401-4906-cd61-6cf7cc118191"
      },
      "outputs": [
        {
          "output_type": "display_data",
          "data": {
            "text/plain": [
              "<Figure size 432x288 with 1 Axes>"
            ],
            "image/png": "[encoded data removed]"
          },
          "metadata": {
            "needs_background": "light"
          }
        }
      ],
      "source": [
        "from matplotlib import pyplot\n",
        "\n",
        "pyplot.plot(history.history['loss'], label='train')\n",
        "pyplot.plot(history.history['val_loss'], label='test')\n",
        "pyplot.legend()\n",
        "pyplot.show()"
      ]
    },
    {
      "cell_type": "code",
      "execution_count": null,
      "metadata": {
        "id": "hM2M2_xc9Fe3"
      },
      "outputs": [],
      "source": [
        "reverse_target_word_index = y_tokenizer.index_word\n",
        "reverse_source_word_index = x_tokenizer.index_word\n",
        "target_word_index = y_tokenizer.word_index"
      ]
    },
    {
      "cell_type": "code",
      "source": [
        "# Inference Models\n",
        "\n",
        "# Encode the input sequence to get the feature vector\n",
        "encoder_model = Model(inputs=encoder_inputs, outputs=[encoder_outputs, state_h, state_c])\n",
        "\n",
        "# Decoder setup\n",
        "# Below tensors will hold the states of the previous time step\n",
        "decoder_state_input_h = Input(shape=(latent_dim,))\n",
        "decoder_state_input_c = Input(shape=(latent_dim,))\n",
        "decoder_hidden_state_input = Input(shape=(max_text_len, latent_dim))\n",
        "\n",
        "# Get the embeddings of the decoder sequence\n",
        "dec_emb2 = dec_emb_layer(decoder_inputs) \n",
        "\n",
        "# To predict the next word in the sequence, set the initial states to the states from the previous time step\n",
        "decoder_outputs2, state_h2, state_c2 = decoder_lstm(dec_emb2, initial_state=[decoder_state_input_h, decoder_state_input_c])\n",
        "\n",
        "# A dense softmax layer to generate prob dist. over the target vocabulary\n",
        "decoder_outputs2 = decoder_dense(decoder_outputs2) \n",
        "\n",
        "# Final decoder model\n",
        "decoder_model = Model(\n",
        "    [decoder_inputs] + [decoder_hidden_state_input, decoder_state_input_h, decoder_state_input_c],\n",
        "    [decoder_outputs2] + [state_h2, state_c2])"
      ],
      "metadata": {
        "id": "uSuT3s3qDQqt"
      },
      "execution_count": null,
      "outputs": []
    },
    {
      "cell_type": "code",
      "source": [
        "def decode_sequence(input_seq):\n",
        "    \n",
        "    # Encode the input as state vectors.\n",
        "    e_out, e_h, e_c = encoder_model.predict(input_seq)\n",
        "    \n",
        "    # Generate empty target sequence of length 1\n",
        "    target_seq = np.zeros((1,1))\n",
        "    \n",
        "    # Populate the first word of target sequence with the start word.\n",
        "    target_seq[0, 0] = target_word_index['start']\n",
        "\n",
        "    stop_condition = False\n",
        "    decoded_sentence = ''\n",
        "    \n",
        "    while not stop_condition:\n",
        "        output_tokens, h, c = decoder_model.predict([target_seq] + [e_out, e_h, e_c])\n",
        "\n",
        "        # Sample a token\n",
        "        sampled_token_index = np.argmax(output_tokens[0, -1, :])\n",
        "        sampled_token = reverse_target_word_index[sampled_token_index]\n",
        "        \n",
        "        if(sampled_token != 'end'):\n",
        "            decoded_sentence += ' ' + sampled_token\n",
        "\n",
        "        # Exit condition: either hit max length or find stop word.\n",
        "        if (sampled_token == 'end' or len(decoded_sentence.split()) >= (max_summary_len - 1)):\n",
        "            stop_condition = True\n",
        "\n",
        "        # Update the target sequence (of length 1)\n",
        "        target_seq = np.zeros((1,1))\n",
        "        target_seq[0, 0] = sampled_token_index\n",
        "\n",
        "        # Update internal states\n",
        "        e_h, e_c = h, c\n",
        "\n",
        "    return decoded_sentence"
      ],
      "metadata": {
        "id": "TNf89ye5DhLB"
      },
      "execution_count": null,
      "outputs": []
    },
    {
      "cell_type": "code",
      "source": [
        "# To convert sequence to summary\n",
        "def seq2summary(input_seq):\n",
        "    newString = ''\n",
        "    for i in input_seq:\n",
        "        if i != 0 and i != target_word_index['start'] and i \\\n",
        "            != target_word_index['end']:\n",
        "            newString = newString + reverse_target_word_index[i] + ' '\n",
        "\n",
        "    return newString\n",
        "\n",
        "\n",
        "# To convert sequence to text\n",
        "def seq2text(input_seq):\n",
        "    newString = ''\n",
        "    for i in input_seq:\n",
        "        if i != 0:\n",
        "            newString = newString + reverse_source_word_index[i] + ' '\n",
        "\n",
        "    return newString"
      ],
      "metadata": {
        "id": "O5XfzN_sDoJf"
      },
      "execution_count": null,
      "outputs": []
    },
    {
      "cell_type": "code",
      "source": [
        "predicted_summary = []\n",
        "original_summary = []\n",
        "prediction_data_length = 19\n",
        "for i in range(0, prediction_data_length):\n",
        "    print(\"Review:\", seq2text(x_tr[i]))\n",
        "    original = seq2summary(y_tr[i])\n",
        "    original_summary.append(original)\n",
        "    print(\"Original summary:\", original)\n",
        "    prediction = decode_sequence(x_tr[i].reshape(1, max_text_len))\n",
        "    predicted_summary.append(prediction)\n",
        "    print(\"Predicted summary:\", prediction)\n",
        "    print(\"\\n\")"
      ],
      "metadata": {
        "id": "ZUUldoGfDtUS",
        "colab": {
          "base_uri": "https://localhost:8080/"
        },
        "outputId": "ebb322d6-2b12-4035-e82a-99e3930f7895"
      },
      "execution_count": null,
      "outputs": [
        {
          "output_type": "stream",
          "name": "stdout",
          "text": [
            "Review: lok janshakti party president ram vilas paswan daughter asha has said she will contest elections against him from constituency if given ticket from lalu prasad yadav rjd she accused him of neglecting her and promoting his son chirag asha is paswan daughter from his first wife while chirag is his son from his second wife \n",
            "Original summary: will contest against father ram vilas from daughter \n",
            "Predicted summary:  will be son of son son to join son son\n",
            "\n",
            "\n",
            "Review: irish deputy prime minister frances fitzgerald announced her resignation on tuesday in bid to avoid the collapse of the government and potential snap election she quit hours before no confidence motion was to be proposed against her by the main opposition party the political crisis began over fitzgerald role in police whistleblower scandal \n",
            "Original summary: irish deputy prime minister resigns to avoid govt collapse \n",
            "Predicted summary:  pm modi to be removed from parliament\n",
            "\n",
            "\n",
            "Review: rr wicketkeeper batsman jos buttler slammed his fifth straight fifty in ipl 2018 on sunday to equal former indian cricketer virender sehwag record of most straight 50 scores in the ipl sehwag had achieved the feat while representing dd in the ipl 2012 buttler is also only the second batsman after shane watson to hit two successive 90 scores in ipl \n",
            "Original summary: buttler equals sehwag record of most straight 50s in ipl \n",
            "Predicted summary:  sachin becomes most expensive player in ipl 2018\n",
            "\n",
            "\n",
            "Review: the enforcement directorate ed has attached assets worth over ã¢ââ¹33 500 crore in the over three year tenure of its chief karnal singh who retires sunday officials said the agency filed around 390 in connection with its money laundering probes during the period the government on saturday appointed indian revenue service irs officer sanjay kumar mishra as interim ed chief \n",
            "Original summary: enforcement attached assets worth ã¢ââ¹33 500 cr in yrs \n",
            "Predicted summary:  ed seizes crore assets of ã¢ââ¹1 crore in assets scam\n",
            "\n",
            "\n",
            "Review: maruti suzuki india on wednesday said it is recalling 640 units of its super carry mini trucks sold in the domestic market over possible defect in fuel pump supply the recall covers super carry units manufactured between january 20 and july 14 2018 the faulty parts in the affected vehicles will be replaced free of cost the automaker said n \n",
            "Original summary: maruti recalls its mini trucks over fuel pump issue in india \n",
            "Predicted summary:  reliance recalls 1 000 cars to make electric cars\n",
            "\n",
            "\n",
            "Review: the arrested lashkar e taiba let terrorist aamir ben has confessed to the national investigation agency that pakistani army provided him cover firing to infiltrate into india he further revealed that hafiz organisation ud dawah arranged for his training and that he was sent across india to carry out subversive activities in and outside kashmir \n",
            "Original summary: pak helped me enter india arrested let terrorist to nia \n",
            "Predicted summary:  pak army chief arrested for killing pak army chief\n",
            "\n",
            "\n",
            "Review: sunny leone has shared post on instagram in which she has asked her fans to donate to crowdfunding page started by her to help prabhakar member of her staff who is battling kidney disease she added that only 20 of his kidneys are functioning his entire family depends on him for their survival sunny further wrote \n",
            "Original summary: sunny asks fans to help staff member battling kidney disease \n",
            "Predicted summary:  i t dept to get married to girlfriend\n",
            "\n",
            "\n",
            "Review: andhra pradesh chief minister chandrababu naidu on monday announced that his government will provide 100 units free power to most backward classes he added that the government would also give aid of up to ã¢ââ¹15 lakh to backward classes for foreign education we will spread out the poverty eradication program under pro basis he further said n \n",
            "Original summary: most backward classes to get 100 units free power andhra cm \n",
            "Predicted summary:  andhra to give ã¢ââ¹1 000 cr to make up cm fund for farmers\n",
            "\n",
            "\n",
            "Review: us president donald trump on wednesday said that north korea has returned the remains of 200 us troops missing from the korean war although there was no official confirmation from military authorities north korean leader kim jong un had agreed to return the remains during his summit with trump about 700 us troops remain unaccounted from the 1950 1953 korean war \n",
            "Original summary: n korea has returned remains of 200 us war dead trump \n",
            "Predicted summary:  n korea threatens to korea over us test leader\n",
            "\n",
            "\n",
            "Review: four witnesses in the pehlu khan lynching case including his sons were allegedly shot at by unidentified men while they were on their way to in court in rajasthan alwar on saturday they were shot at by men in an suv who hid their faces with one hand the witnesses have sought moving the hearing to another court \n",
            "Original summary: khan lynching witnesses sons shot at on way to court \n",
            "Predicted summary:  2 killed in bihar after being beaten up by police\n",
            "\n",
            "\n",
            "Review: the 23 richest indians in the 500 member bloomberg billionaires index saw wealth erosion of 21 billion this year lakshmi mittal who controls the world largest steelmaker arcelormittal lost 5 6 billion or 29 of his net worth followed by sun pharma founder dilip shanghvi whose wealth declined 4 6 billion asia richest person mukesh ambani added 4 billion to his fortune \n",
            "Original summary: lakshmi mittal lost 10 bn in 2018 ambani added 4 bn \n",
            "Predicted summary:  world richest richest person wealth in 2017\n",
            "\n",
            "\n",
            "Review: speaking on the divorce petition filed by his elder brother tej pratap yadav rjd leader tejashwi yadav said he will not talk about it in public adding that it is family matter we are capable of resolving it within the family tejashwi said meanwhile tej said he won come back home unless his parents accept his decision for divorce \n",
            "Original summary: tej divorce family matter won talk in public tejashwi \n",
            "Predicted summary:  if he will be part of my son tej pratap on lalu yadav\n",
            "\n",
            "\n",
            "Review: a in pakistan has been jailed for 24 years for blackmailing and harassing nearly 200 lady doctors and nurses he introduced himself as military intelligence official according to the complainant who filed the case he was arrested in 2015 for hacking the whatsapp accounts of lady doctors blackmailing them with objectionable content and extorting money from them \n",
            "Original summary: pak jailed for harassing 200 lady doctors nurses \n",
            "Predicted summary:  pak man jailed for using cancer to get cancer\n",
            "\n",
            "\n",
            "Review: the delhi commission for women dcw has recommended that child lock facility in cabs be disabled as it increases the possibility of crime against women if the child lock safety feature is activated passengers cannot open the door from inside dcw chairperson swati maliwal recommended that the transport department issue guidelines for removing child lock from cabs and commercial vehicles \n",
            "Original summary: child lock increases possibility of crime in cabs dcw \n",
            "Predicted summary:  delhi school bans women from kids to get kids\n",
            "\n",
            "\n",
            "Review: pope francis has said that history will judge those who refuse to accept the science of climate change if someone is doubtful that climate change is true they should ask scientists the pope added notably us president donald trump who believes global warming is chinese conspiracy withdrew the country from the paris climate agreement \n",
            "Original summary: history will judge those denying climate change pope \n",
            "Predicted summary:  will be world no one of the world cup chief\n",
            "\n",
            "\n",
            "Review: a lawsuit filed against apple has claimed its iphone is not all screen as marketed by the company saying it counts non screen areas like notch and corners to make the claim the suit also alleges the phone is supposed to have resolution as advertised but it does not contain true pixels with red blue and green \n",
            "Original summary: apple lied about iphone screen size resolution lawsuit \n",
            "Predicted summary:  apple files patent for iphone iphone report\n",
            "\n",
            "\n",
            "Review: six months after raising 40 million in series funding led by mahindra mahindra car rental platform zoomcar has raised 3 6 million ã¢ââ¹25 crore from trifecta venture debt fund for the year ended march 2017 zoomcar reported ã¢ââ¹100 4 crore loss compared to ã¢ââ¹101 4 crore of loss in fy16 founded in 2012 zoomcar has raised 103 8 million till date \n",
            "Original summary: zoomcar raises ã¢ââ¹25 crore in debt fund from \n",
            "Predicted summary:  raises 3 5 mn in funding at valuation\n",
            "\n",
            "\n",
            "Review: amid speculation of dmk joining the third front for the 2019 lok sabha elections the dmk has declared that it will continue its ties with the congress it said there has been no talk about the third front adding the dmk will support all the chief ministers who speak out for the cause of federal structure and autonomy for states \n",
            "Original summary: no talk of third front will continue ties with cong dmk \n",
            "Predicted summary:  will be in 2019 polls if it is not in 2019 polls cong\n",
            "\n",
            "\n",
            "Review: the supreme court on friday stayed its order directing demolition of multi level car parking being constructed near the taj mahal at agra uttar pradesh the sc asked the authorities to maintain the existing state of parking which is around one kilometre from the eastern gate of the 17th century monument and said no further construction will be carried out there \n",
            "Original summary: sc stays its order to demolish parking lot near taj mahal \n",
            "Predicted summary:  sc orders up govt to build water on road in tn\n",
            "\n",
            "\n"
          ]
        }
      ]
    },
    {
      "cell_type": "code",
      "source": [
        "# classification model"
      ],
      "metadata": {
        "id": "oHTtcHoXk8It"
      },
      "execution_count": null,
      "outputs": []
    },
    {
      "cell_type": "code",
      "source": [
        "from sklearn.datasets import fetch_20newsgroups\n",
        "twenty_train = fetch_20newsgroups(subset='train', shuffle=True)"
      ],
      "metadata": {
        "id": "at1iYW2rlPYY"
      },
      "execution_count": null,
      "outputs": []
    },
    {
      "cell_type": "code",
      "source": [
        "print(twenty_train.target_names) #prints all the categories\n",
        "print(\"\\n\".join(twenty_train.data[0].split(\"\\n\")[:])) #prints first data\n",
        "for i in range(len(twenty_train.data)):\n",
        "  data = list(twenty_train.data[i].split(\"\\n\"))\n",
        "  for j in range(len(data)):\n",
        "    if data[j].find(':') == -1:\n",
        "      twenty_train.data[i] = \"\\n\".join(data[j:])\n",
        "      break\n",
        "print(\"\\n\".join(twenty_train.data[0].split(\"\\n\")[:])) #prints updated first data"
      ],
      "metadata": {
        "id": "xmOfc-F0lVaJ",
        "colab": {
          "base_uri": "https://localhost:8080/"
        },
        "outputId": "6be4d1ce-985d-4d1a-8079-eb773e9b1162"
      },
      "execution_count": null,
      "outputs": [
        {
          "output_type": "stream",
          "name": "stdout",
          "text": [
            "['alt.atheism', 'comp.graphics', 'comp.os.ms-windows.misc', 'comp.sys.ibm.pc.hardware', 'comp.sys.mac.hardware', 'comp.windows.x', 'misc.forsale', 'rec.autos', 'rec.motorcycles', 'rec.sport.baseball', 'rec.sport.hockey', 'sci.crypt', 'sci.electronics', 'sci.med', 'sci.space', 'soc.religion.christian', 'talk.politics.guns', 'talk.politics.mideast', 'talk.politics.misc', 'talk.religion.misc']\n",
            "From: lerxst@wam.umd.edu (where's my thing)\n",
            "Subject: WHAT car is this!?\n",
            "Nntp-Posting-Host: rac3.wam.umd.edu\n",
            "Organization: University of Maryland, College Park\n",
            "Lines: 15\n",
            "\n",
            " I was wondering if anyone out there could enlighten me on this car I saw\n",
            "the other day. It was a 2-door sports car, looked to be from the late 60s/\n",
            "early 70s. It was called a Bricklin. The doors were really small. In addition,\n",
            "the front bumper was separate from the rest of the body. This is \n",
            "all I know. If anyone can tellme a model name, engine specs, years\n",
            "of production, where this car is made, history, or whatever info you\n",
            "have on this funky looking car, please e-mail.\n",
            "\n",
            "Thanks,\n",
            "- IL\n",
            "   ---- brought to you by your neighborhood Lerxst ----\n",
            "\n",
            "\n",
            "\n",
            "\n",
            "\n",
            "\n",
            " I was wondering if anyone out there could enlighten me on this car I saw\n",
            "the other day. It was a 2-door sports car, looked to be from the late 60s/\n",
            "early 70s. It was called a Bricklin. The doors were really small. In addition,\n",
            "the front bumper was separate from the rest of the body. This is \n",
            "all I know. If anyone can tellme a model name, engine specs, years\n",
            "of production, where this car is made, history, or whatever info you\n",
            "have on this funky looking car, please e-mail.\n",
            "\n",
            "Thanks,\n",
            "- IL\n",
            "   ---- brought to you by your neighborhood Lerxst ----\n",
            "\n",
            "\n",
            "\n",
            "\n",
            "\n"
          ]
        }
      ]
    },
    {
      "cell_type": "code",
      "source": [
        "from sklearn.feature_extraction.text import CountVectorizer\n",
        "count_vect = CountVectorizer()\n",
        "X_train_counts = count_vect.fit_transform(twenty_train.data)\n",
        "X_train_counts.shape\n"
      ],
      "metadata": {
        "id": "F9OVIfdUlbyX",
        "colab": {
          "base_uri": "https://localhost:8080/"
        },
        "outputId": "f830888f-a82b-448a-9512-f0901d12b7fa"
      },
      "execution_count": null,
      "outputs": [
        {
          "output_type": "execute_result",
          "data": {
            "text/plain": [
              "(11314, 125403)"
            ]
          },
          "metadata": {},
          "execution_count": 89
        }
      ]
    },
    {
      "cell_type": "code",
      "source": [
        "from sklearn.feature_extraction.text import TfidfTransformer\n",
        "tfidf_transformer = TfidfTransformer()\n",
        "X_train_tfidf = tfidf_transformer.fit_transform(X_train_counts)\n",
        "X_train_tfidf.shape"
      ],
      "metadata": {
        "id": "5WSzDyqIlpnR",
        "colab": {
          "base_uri": "https://localhost:8080/"
        },
        "outputId": "12ef5e11-1376-4dcc-bdc8-22531200367c"
      },
      "execution_count": null,
      "outputs": [
        {
          "output_type": "execute_result",
          "data": {
            "text/plain": [
              "(11314, 125403)"
            ]
          },
          "metadata": {},
          "execution_count": 82
        }
      ]
    },
    {
      "cell_type": "code",
      "source": [
        "from sklearn.naive_bayes import MultinomialNB\n",
        "clf = MultinomialNB().fit(X_train_tfidf, twenty_train.target)"
      ],
      "metadata": {
        "id": "8hJIBZwmlvGn"
      },
      "execution_count": null,
      "outputs": []
    },
    {
      "cell_type": "code",
      "source": [
        ">>> from sklearn.pipeline import Pipeline\n",
        ">>> text_clf = Pipeline([('vect', CountVectorizer()),\n",
        "...                      ('tfidf', TfidfTransformer()),\n",
        "...                      ('clf', MultinomialNB()),\n",
        "... ])\n",
        "text_clf = text_clf.fit(twenty_train.data, twenty_train.target)"
      ],
      "metadata": {
        "id": "EeKuZXVQl0gW"
      },
      "execution_count": null,
      "outputs": []
    },
    {
      "cell_type": "code",
      "source": [
        "import numpy as np\n",
        "# twenty_test = fetch_20newsgroups(subset='test', shuffle=True)\n",
        "# for i in range(len(twenty_test.data)):\n",
        "#   data = list(twenty_test.data[i].split(\"\\n\"))\n",
        "#   for j in range(len(data)):\n",
        "#     if data[j].find(':') == -1:\n",
        "#       twenty_test.data[i] = \"\\n\".join(data[j:])\n",
        "#       break\n",
        "# print(twenty_test.data[0])\n",
        "\n",
        "predicted_class = text_clf.predict(predicted_summary)\n",
        "original_class = text_clf.predict(original_summary)\n",
        "for i in range(0, prediction_data_length):\n",
        "  print(\"predicted class for sample no. \", i, \": \", twenty_train.target_names[predicted_class[i]])\n",
        "  print(\"original class for sample no.  \", i, \": \", twenty_train.target_names[original_class[i]])\n",
        "  print()"
      ],
      "metadata": {
        "id": "aTHV48Zlk2lr",
        "colab": {
          "base_uri": "https://localhost:8080/"
        },
        "outputId": "2664472d-729c-4777-f4cf-cef270cf474c"
      },
      "execution_count": null,
      "outputs": [
        {
          "output_type": "stream",
          "name": "stdout",
          "text": [
            "predicted class for sample no.  0 :  soc.religion.christian\n",
            "original class for sample no.   0 :  soc.religion.christian\n",
            "\n",
            "predicted class for sample no.  1 :  talk.politics.mideast\n",
            "original class for sample no.   1 :  talk.politics.mideast\n",
            "\n",
            "predicted class for sample no.  2 :  rec.sport.hockey\n",
            "original class for sample no.   2 :  rec.sport.hockey\n",
            "\n",
            "predicted class for sample no.  3 :  rec.motorcycles\n",
            "original class for sample no.   3 :  sci.crypt\n",
            "\n",
            "predicted class for sample no.  4 :  rec.autos\n",
            "original class for sample no.   4 :  rec.autos\n",
            "\n",
            "predicted class for sample no.  5 :  talk.politics.mideast\n",
            "original class for sample no.   5 :  talk.politics.mideast\n",
            "\n",
            "predicted class for sample no.  6 :  soc.religion.christian\n",
            "original class for sample no.   6 :  sci.med\n",
            "\n",
            "predicted class for sample no.  7 :  sci.space\n",
            "original class for sample no.   7 :  sci.electronics\n",
            "\n",
            "predicted class for sample no.  8 :  sci.crypt\n",
            "original class for sample no.   8 :  talk.politics.mideast\n",
            "\n",
            "predicted class for sample no.  9 :  talk.politics.guns\n",
            "original class for sample no.   9 :  talk.politics.guns\n",
            "\n",
            "predicted class for sample no.  10 :  soc.religion.christian\n",
            "original class for sample no.   10 :  rec.sport.hockey\n",
            "\n",
            "predicted class for sample no.  11 :  soc.religion.christian\n",
            "original class for sample no.   11 :  soc.religion.christian\n",
            "\n",
            "predicted class for sample no.  12 :  sci.med\n",
            "original class for sample no.   12 :  sci.med\n",
            "\n",
            "predicted class for sample no.  13 :  rec.autos\n",
            "original class for sample no.   13 :  talk.politics.guns\n",
            "\n",
            "predicted class for sample no.  14 :  rec.sport.hockey\n",
            "original class for sample no.   14 :  soc.religion.christian\n",
            "\n",
            "predicted class for sample no.  15 :  comp.sys.mac.hardware\n",
            "original class for sample no.   15 :  comp.sys.mac.hardware\n",
            "\n",
            "predicted class for sample no.  16 :  sci.space\n",
            "original class for sample no.   16 :  talk.politics.guns\n",
            "\n",
            "predicted class for sample no.  17 :  rec.sport.hockey\n",
            "original class for sample no.   17 :  rec.sport.hockey\n",
            "\n",
            "predicted class for sample no.  18 :  rec.autos\n",
            "original class for sample no.   18 :  rec.autos\n",
            "\n"
          ]
        }
      ]
    },
    {
      "cell_type": "code",
      "source": [
        "!pip install -U sentence-transformers\n"
      ],
      "metadata": {
        "id": "MHxcEmaS5qiC"
      },
      "execution_count": null,
      "outputs": []
    },
    {
      "cell_type": "code",
      "source": [
        "from sentence_transformers import SentenceTransformer\n",
        "from sklearn.metrics.pairwise import cosine_similarity\n",
        "model = SentenceTransformer('bert-base-nli-mean-tokens')\n",
        "def getSimilarity(sen):\n",
        "  sen_embeddings = model.encode(sen)\n",
        "  return cosine_similarity([sen_embeddings[0]], sen_embeddings[1:])\n",
        "\n",
        "for i in range(0, prediction_data_length):\n",
        "  if (twenty_train.target_names[predicted_class[i]] == twenty_train.target_names[original_class[i]]):\n",
        "    print(\"Teacher's and Student's answers matched with class: \", twenty_train.target_names[predicted_class[i]])\n",
        "    print(\"Score: \", int(getSimilarity([predicted_summary[i], original_summary[i]])[0][0]*100), \"/100\")\n",
        "  else:\n",
        "    print(\"Student's and teacher's answer didn't match with same class\")\n",
        "    print(\"Score: \", int(getSimilarity([predicted_summary[i], original_summary[i]])[0][0]*100), \"/100\")\n",
        "\n",
        "  print()"
      ],
      "metadata": {
        "colab": {
          "base_uri": "https://localhost:8080/"
        },
        "id": "taiYJRDF-OHj",
        "outputId": "401785da-2c2e-4478-ed4d-dbd1a1f6728c"
      },
      "execution_count": null,
      "outputs": [
        {
          "output_type": "stream",
          "name": "stdout",
          "text": [
            "Teacher's and Student's answers matched with class:  soc.religion.christian\n",
            "Score:  54 /100\n",
            "\n",
            "Teacher's and Student's answers matched with class:  talk.politics.mideast\n",
            "Score:  66 /100\n",
            "\n",
            "Teacher's and Student's answers matched with class:  rec.sport.hockey\n",
            "Score:  57 /100\n",
            "\n",
            "Student's and teacher's answer didn't match with same class\n",
            "Score:  64 /100\n",
            "\n",
            "Teacher's and Student's answers matched with class:  rec.autos\n",
            "Score:  50 /100\n",
            "\n",
            "Teacher's and Student's answers matched with class:  talk.politics.mideast\n",
            "Score:  59 /100\n",
            "\n",
            "Student's and teacher's answer didn't match with same class\n",
            "Score:  46 /100\n",
            "\n",
            "Student's and teacher's answer didn't match with same class\n",
            "Score:  58 /100\n",
            "\n",
            "Student's and teacher's answer didn't match with same class\n",
            "Score:  40 /100\n",
            "\n",
            "Teacher's and Student's answers matched with class:  talk.politics.guns\n",
            "Score:  75 /100\n",
            "\n",
            "Student's and teacher's answer didn't match with same class\n",
            "Score:  45 /100\n",
            "\n",
            "Teacher's and Student's answers matched with class:  soc.religion.christian\n",
            "Score:  38 /100\n",
            "\n",
            "Teacher's and Student's answers matched with class:  sci.med\n",
            "Score:  62 /100\n",
            "\n",
            "Student's and teacher's answer didn't match with same class\n",
            "Score:  39 /100\n",
            "\n",
            "Student's and teacher's answer didn't match with same class\n",
            "Score:  51 /100\n",
            "\n",
            "Teacher's and Student's answers matched with class:  comp.sys.mac.hardware\n",
            "Score:  75 /100\n",
            "\n",
            "Student's and teacher's answer didn't match with same class\n",
            "Score:  76 /100\n",
            "\n",
            "Teacher's and Student's answers matched with class:  rec.sport.hockey\n",
            "Score:  36 /100\n",
            "\n",
            "Teacher's and Student's answers matched with class:  rec.autos\n",
            "Score:  43 /100\n",
            "\n"
          ]
        }
      ]
    }
  ],
  "metadata": {
    "colab": {
      "collapsed_sections": [],
      "name": "Untitled2.ipynb",
      "provenance": [],
      "include_colab_link": true
    },
    "kernelspec": {
      "display_name": "Python 3",
      "name": "python3"
    },
    "language_info": {
      "name": "python"
    },
    "accelerator": "TPU",
    "gpuClass": "standard"
  },
  "nbformat": 4,
  "nbformat_minor": 0
}